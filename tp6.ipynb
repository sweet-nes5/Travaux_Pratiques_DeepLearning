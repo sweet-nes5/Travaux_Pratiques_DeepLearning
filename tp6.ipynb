{
 "cells": [
  {
   "cell_type": "markdown",
   "id": "60e1cc90-40fb-4285-bc66-96ae0dd4074a",
   "metadata": {},
   "source": [
    "# Exercice1"
   ]
  },
  {
   "cell_type": "code",
   "execution_count": 380,
   "id": "14535dd1-ac30-460c-bf6b-4f71ab668a30",
   "metadata": {
    "tags": []
   },
   "outputs": [
    {
     "name": "stdout",
     "output_type": "stream",
     "text": [
      "{0: 'all', 1: 'set', 2: 'just', 3: 'show', 4: 'being', 5: 'money', 6: 'over', 7: 'both', 8: 'years', 9: 'four', 10: 'through', 11: 'during', 12: 'go', 13: 'still', 14: 'children', 15: 'before', 16: 'police', 17: 'office', 18: 'million', 19: 'also', 20: 'less', 21: 'had', 22: ',', 23: 'including', 24: 'should', 25: 'to', 26: 'only', 27: 'going', 28: 'under', 29: 'has', 30: 'might', 31: 'do', 32: 'them', 33: 'good', 34: 'around', 35: 'get', 36: 'very', 37: 'big', 38: 'dr.', 39: 'game', 40: 'every', 41: 'know', 42: 'they', 43: 'not', 44: 'world', 45: 'now', 46: 'him', 47: 'school', 48: 'several', 49: 'like', 50: 'did', 51: 'university', 52: 'companies', 53: 'these', 54: 'she', 55: 'team', 56: 'found', 57: 'where', 58: 'right', 59: 'says', 60: 'people', 61: 'house', 62: 'national', 63: 'some', 64: 'back', 65: 'see', 66: 'street', 67: 'are', 68: 'year', 69: 'home', 70: 'best', 71: 'out', 72: 'even', 73: 'what', 74: 'said', 75: 'for', 76: 'federal', 77: 'since', 78: 'its', 79: 'may', 80: 'state', 81: 'does', 82: 'john', 83: 'between', 84: 'new', 85: ';', 86: 'three', 87: 'public', 88: '?', 89: 'be', 90: 'we', 91: 'after', 92: 'business', 93: 'never', 94: 'use', 95: 'here', 96: 'york', 97: 'members', 98: 'percent', 99: 'put', 100: 'group', 101: 'come', 102: 'by', 103: '$', 104: 'on', 105: 'about', 106: 'last', 107: 'her', 108: 'of', 109: 'could', 110: 'days', 111: 'against', 112: 'times', 113: 'women', 114: 'place', 115: 'think', 116: 'first', 117: 'among', 118: 'own', 119: 'family', 120: 'into', 121: 'each', 122: 'one', 123: 'down', 124: 'because', 125: 'long', 126: 'another', 127: 'such', 128: 'old', 129: 'next', 130: 'your', 131: 'market', 132: 'second', 133: 'city', 134: 'little', 135: 'from', 136: 'would', 137: 'few', 138: 'west', 139: 'there', 140: 'political', 141: 'two', 142: 'been', 143: '.', 144: 'their', 145: 'much', 146: 'music', 147: 'too', 148: 'way', 149: 'white', 150: ':', 151: 'was', 152: 'war', 153: 'today', 154: 'more', 155: 'ago', 156: 'life', 157: 'that', 158: 'season', 159: 'company', 160: '-', 161: 'but', 162: 'part', 163: 'court', 164: 'former', 165: 'general', 166: 'with', 167: 'than', 168: 'those', 169: 'he', 170: 'me', 171: 'high', 172: 'made', 173: 'this', 174: 'work', 175: 'up', 176: 'us', 177: 'until', 178: 'will', 179: 'ms.', 180: 'while', 181: 'officials', 182: 'can', 183: 'were', 184: 'country', 185: 'my', 186: 'called', 187: 'and', 188: 'program', 189: 'have', 190: 'then', 191: 'is', 192: 'it', 193: 'an', 194: 'states', 195: 'case', 196: 'say', 197: 'his', 198: 'at', 199: 'want', 200: 'in', 201: 'any', 202: 'as', 203: 'if', 204: 'united', 205: 'end', 206: 'no', 207: ')', 208: 'make', 209: 'government', 210: 'when', 211: 'american', 212: 'same', 213: 'how', 214: 'mr.', 215: 'other', 216: 'take', 217: 'which', 218: 'department', 219: '--', 220: 'you', 221: 'many', 222: 'nt', 223: 'day', 224: 'week', 225: 'play', 226: 'used', 227: \"'s\", 228: 'though', 229: 'our', 230: 'who', 231: 'yesterday', 232: 'director', 233: 'most', 234: 'president', 235: 'law', 236: 'man', 237: 'a', 238: 'night', 239: 'off', 240: 'center', 241: 'i', 242: 'well', 243: 'or', 244: 'without', 245: 'so', 246: 'time', 247: 'five', 248: 'the', 249: 'left'}\n",
      "tensor([182,  89, 186, 143])\n",
      "tensor([242,  22,  54,  74])\n"
     ]
    }
   ],
   "source": [
    "import torch\n",
    "import torch.nn.functional as F\n",
    "import functorch\n",
    "import matplotlib.pyplot as plt\n",
    "#loading the data\n",
    "train_data = torch.load('train_data.pt')\n",
    "test_data = torch.load('test_data.pt')\n",
    "valid_data = torch.load('valid_data.pt')\n",
    "vocab = torch.load('vocab.pt')\n",
    "print(vocab)\n",
    "print(test_data[0])\n",
    "print(test_data[3])"
   ]
  },
  {
   "cell_type": "code",
   "execution_count": 355,
   "id": "8ca272a2-9151-4667-9d03-111973551b7c",
   "metadata": {},
   "outputs": [],
   "source": [
    "def word_from_idx(index):\n",
    "    if index in vocab:\n",
    "        return vocab[index]\n",
    "    else:\n",
    "        return \"<UNK>\"\n",
    "def idx_from_word(word):\n",
    "    index = [k for k in vocab.keys() if vocab[k]==word ]\n",
    "    return index[0]\n",
    "            \n"
   ]
  },
  {
   "cell_type": "code",
   "execution_count": 356,
   "id": "19c6884d-6e2d-4bdc-8757-5ec52bee9c8c",
   "metadata": {
    "tags": []
   },
   "outputs": [
    {
     "name": "stdout",
     "output_type": "stream",
     "text": [
      "=== premiers grams dans test-data ===\n",
      "can be called .\n",
      "they are well ,\n",
      "are well , she\n",
      "well , she said\n",
      ", she said .\n",
      "=== premiers grams dans train-data ===\n",
      "going to be .\n",
      "were not the first\n",
      "can do for each\n",
      "first time in my\n",
      "nt have the money\n",
      "=== premiers grams dans valid-data ===\n",
      "he would have been\n",
      "would have been right\n",
      "have been right there\n",
      "been right there .\n",
      "i did nt even\n"
     ]
    }
   ],
   "source": [
    "print(\"=== premiers grams dans test-data ===\")\n",
    "for i in range(5):\n",
    "    list = []\n",
    "    for j in range(4):\n",
    "        index = test_data[i][j].item()\n",
    "        list.append(word_from_idx(index))\n",
    "        list_to_pint = \" \".join(list)\n",
    "    print(list_to_pint)\n",
    "print(\"=== premiers grams dans train-data ===\")   \n",
    "for i in range(5):\n",
    "    list = []\n",
    "    for j in range(4):\n",
    "        index = train_data[i][j].item()\n",
    "        list.append(word_from_idx(index))\n",
    "        list_to_pint = \" \".join(list)\n",
    "    print(list_to_pint)\n",
    "print(\"=== premiers grams dans valid-data ===\")   \n",
    "for i in range(5):\n",
    "    list = []\n",
    "    for j in range(4):\n",
    "        index = valid_data[i][j].item()\n",
    "        list.append(word_from_idx(index))\n",
    "        list_to_pint = \" \".join(list)\n",
    "    print(list_to_pint)    "
   ]
  },
  {
   "cell_type": "markdown",
   "id": "d4c8aa94-b8e5-42dc-83ff-12054a5f1d68",
   "metadata": {},
   "source": [
    "# Exercice 2"
   ]
  },
  {
   "cell_type": "code",
   "execution_count": 357,
   "id": "91e90baa-cde9-497b-ad51-228b8097b6df",
   "metadata": {
    "tags": []
   },
   "outputs": [
    {
     "name": "stdout",
     "output_type": "stream",
     "text": [
      "cpu\n",
      "cpu\n",
      "cpu\n"
     ]
    }
   ],
   "source": [
    "from torch.utils.data import Dataset, DataLoader\n",
    "\n",
    "class MyDataSet(Dataset):\n",
    "    def __init__(self, inputs, targets):\n",
    "        # device agnostic code:\n",
    "        if torch.cuda.is_available():\n",
    "            device = torch.device(\"cuda\")\n",
    "        else:\n",
    "            device = torch.device(\"cpu\")\n",
    "        print(device)\n",
    "        self.inputs = inputs.to(device)\n",
    "        self.targets = targets.to(device)     \n",
    "    def __len__(self):\n",
    "        return len(self.inputs)\n",
    "    def __getitem__(self, index):\n",
    "        return self.inputs[index], self.targets[index]\n",
    "\n",
    "train_loader = DataLoader(MyDataSet(train_data[:,:3], train_data[:,3]), batch_size=400)\n",
    "validation_loader = DataLoader(MyDataSet(valid_data[:,:3], valid_data[:,3]), batch_size=400)\n",
    "test_loader = DataLoader(MyDataSet(train_data[:,:3], train_data[:,3]), batch_size=400)"
   ]
  },
  {
   "cell_type": "markdown",
   "id": "5d3ec684-0069-4ee2-84e8-a512e8ba2137",
   "metadata": {},
   "source": [
    "# Exercice 3"
   ]
  },
  {
   "cell_type": "code",
   "execution_count": 358,
   "id": "a75f18a1-7f3c-4df0-9761-67f1417995ea",
   "metadata": {},
   "outputs": [
    {
     "name": "stdout",
     "output_type": "stream",
     "text": [
      "Nombre total de paramètres du modèle : 72954\n"
     ]
    }
   ],
   "source": [
    "class WordModule(torch.nn.Module):\n",
    "    def __init__(self, n_words, d_context, d_dist_repr, d_hidden):\n",
    "        super().__init__()\n",
    "        self.d_context = d_context\n",
    "        self.d_dist_repr= d_dist_repr\n",
    "        \n",
    "        self.embed = torch.nn.Embedding(n_words, d_dist_repr) # fait le 1 hot encoding en plus d'associer des vecteurs aux mots\n",
    "        self.hidden = torch.nn.Linear(d_context * d_dist_repr, d_hidden)\n",
    "        self.act1 = torch.nn.ReLU()\n",
    "        self.outLayer = torch.nn.Linear(d_hidden, n_words)\n",
    "        self.act2 = torch.nn.LogSoftmax(dim=1)  \n",
    "        \n",
    "    def forward(self, x):\n",
    "        x = self.embed(x)\n",
    "        x = self.hidden(x.view(-1, self.d_context * self.d_dist_repr))\n",
    "        x = self.act1(x)               \n",
    "        x = self.act2(self.outLayer(x))\n",
    "        return x\n",
    "        \n",
    "\n",
    "n_words = len(vocab) #nombre total de mots dans le vocabulaire\n",
    "d_context = 3 # nombre de features \n",
    "d_dist_repr = 64 # dimension de la couche d'immersion\n",
    "d_hidden = 128 # dimension de la couche cachée\n",
    "model = WordModule( n_words,d_context,d_dist_repr,d_hidden)\n",
    "def count_parameters(model):\n",
    "    return sum(p.numel() for p in model.parameters() if p.requires_grad)\n",
    "num_params = count_parameters(model)\n",
    "print(\"Nombre total de paramètres du modèle :\", num_params)"
   ]
  },
  {
   "cell_type": "code",
   "execution_count": 359,
   "id": "14d65bf7-6a34-4692-a6c1-961091977809",
   "metadata": {
    "tags": []
   },
   "outputs": [
    {
     "name": "stdout",
     "output_type": "stream",
     "text": [
      "FEATURES: going to be\n",
      "MODEL PREDICTION: might\n",
      "FEATURES: were not the\n",
      "MODEL PREDICTION: down\n",
      "FEATURES: can do for\n",
      "MODEL PREDICTION: because\n",
      "FEATURES: first time in\n",
      "MODEL PREDICTION: i\n",
      "FEATURES: nt have the\n",
      "MODEL PREDICTION: after\n",
      "FEATURES: know what to\n",
      "MODEL PREDICTION: a\n",
      "FEATURES: i do nt\n",
      "MODEL PREDICTION: because\n",
      "FEATURES: nt do that\n",
      "MODEL PREDICTION: we\n",
      "FEATURES: what do you\n",
      "MODEL PREDICTION: he\n",
      "FEATURES: know is we\n",
      "MODEL PREDICTION: play\n"
     ]
    }
   ],
   "source": [
    "# Activer le mode évaluation du modèle\n",
    "model.eval()\n",
    "\n",
    "for i in range(10):\n",
    "   \n",
    "    indices = train_data[i][:3]\n",
    "    input_features = [word_from_idx(indices[j].item()) for j in range(3)]\n",
    "    input_features_str = \" \".join(input_features)\n",
    "    # faire une prédiction avec le modèle\n",
    "    with torch.no_grad():\n",
    "        output = model(indices)\n",
    "        \n",
    "    pred_idx = torch.argmax(output, dim=1).item()\n",
    "    pred_word = word_from_idx(pred_idx)\n",
    "    \n",
    "    # Afficher les features et la prédiction du modèle\n",
    "    print(f\"FEATURES: {input_features_str}\")\n",
    "    print(f\"MODEL PREDICTION: {pred_word}\")\n"
   ]
  },
  {
   "cell_type": "markdown",
   "id": "0990dd50-ae30-429c-a21f-b5e12fd7e3b6",
   "metadata": {},
   "source": [
    "## Exercice 4"
   ]
  },
  {
   "cell_type": "code",
   "execution_count": 360,
   "id": "85091870-60ab-4cb8-b3a9-8aa432aa83d0",
   "metadata": {
    "tags": []
   },
   "outputs": [
    {
     "name": "stderr",
     "output_type": "stream",
     "text": [
      "/tmp/ipykernel_1146627/4010851145.py:4: UserWarning: There is a performance drop because we have not yet implemented the batching rule for aten::isin.Tensor_Tensor. Please file us an issue on GitHub so that we can prioritize its implementation. (Triggered internally at ../aten/src/ATen/functorch/BatchedFallback.cpp:82.)\n",
      "  good_predictions = functorch.vmap(lambda t1, t2: torch.isin(t1,t2))(targets, tensor_top)\n"
     ]
    },
    {
     "name": "stdout",
     "output_type": "stream",
     "text": [
      "Loss at epoch 0: 5.551830291748047 accuracy 3.0 number of batch 0\n",
      "Loss at epoch 100: 3.180391788482666 accuracy 66.25 number of batch 100\n",
      "Loss at epoch 200: 3.1318631172180176 accuracy 67.25 number of batch 200\n",
      "Loss at epoch 300: 3.0665831565856934 accuracy 73.25 number of batch 300\n",
      "Loss at epoch 400: 2.924107551574707 accuracy 72.5 number of batch 0\n",
      "Loss at epoch 500: 3.0302157402038574 accuracy 72.75 number of batch 100\n",
      "Loss at epoch 600: 2.8876540660858154 accuracy 73.5 number of batch 200\n",
      "Loss at epoch 700: 2.801271677017212 accuracy 76.75 number of batch 300\n",
      "Loss at epoch 800: 2.9323432445526123 accuracy 73.75 number of batch 0\n",
      "Loss at epoch 900: 2.874803066253662 accuracy 73.5 number of batch 100\n",
      "Loss at epoch 1000: 2.646587610244751 accuracy 79.75 number of batch 200\n",
      "Loss at epoch 1100: 2.7089433670043945 accuracy 77.0 number of batch 300\n",
      "Loss at epoch 1200: 2.880645990371704 accuracy 75.25 number of batch 0\n",
      "Loss at epoch 1300: 2.8205301761627197 accuracy 76.75 number of batch 100\n",
      "Loss at epoch 1400: 2.8659255504608154 accuracy 76.0 number of batch 200\n",
      "Loss at epoch 1500: 2.6675100326538086 accuracy 79.0 number of batch 300\n",
      "Loss at epoch 1600: 2.6673264503479004 accuracy 78.25 number of batch 0\n",
      "Loss at epoch 1700: 2.748513698577881 accuracy 77.75 number of batch 100\n",
      "Loss at epoch 1800: 2.772517204284668 accuracy 76.25 number of batch 200\n",
      "Loss at epoch 1900: 2.575533151626587 accuracy 81.25 number of batch 300\n",
      "Loss at epoch 2000: 2.6849684715270996 accuracy 77.5 number of batch 0\n",
      "Loss at epoch 2100: 2.6495583057403564 accuracy 80.5 number of batch 100\n",
      "Loss at epoch 2200: 2.620776414871216 accuracy 81.5 number of batch 200\n",
      "Loss at epoch 2300: 2.7049813270568848 accuracy 76.25 number of batch 300\n",
      "Loss at epoch 2400: 2.7850258350372314 accuracy 74.5 number of batch 0\n",
      "Loss at epoch 2500: 2.754506826400757 accuracy 77.75 number of batch 100\n",
      "Loss at epoch 2600: 2.8024628162384033 accuracy 73.75 number of batch 200\n",
      "Loss at epoch 2700: 2.7405896186828613 accuracy 77.25 number of batch 300\n",
      "Loss at epoch 2800: 2.634415626525879 accuracy 80.0 number of batch 0\n",
      "Loss at epoch 2900: 2.5792343616485596 accuracy 79.25 number of batch 100\n",
      "Loss at epoch 3000: 2.641824245452881 accuracy 79.5 number of batch 200\n",
      "Loss at epoch 3100: 2.6648054122924805 accuracy 78.0 number of batch 300\n",
      "Loss at epoch 3200: 2.7494139671325684 accuracy 75.75 number of batch 0\n",
      "Loss at epoch 3300: 2.6132805347442627 accuracy 79.75 number of batch 100\n",
      "Loss at epoch 3400: 2.746134042739868 accuracy 76.0 number of batch 200\n",
      "Loss at epoch 3500: 2.615541696548462 accuracy 80.25 number of batch 300\n",
      "Loss at epoch 3600: 2.4284965991973877 accuracy 84.0 number of batch 0\n",
      "Loss at epoch 3700: 2.6481316089630127 accuracy 77.25 number of batch 100\n",
      "Loss at epoch 3800: 2.4985098838806152 accuracy 82.0 number of batch 200\n",
      "Loss at epoch 3900: 2.8203048706054688 accuracy 76.25 number of batch 300\n",
      "Loss at epoch 4000: 2.648777484893799 accuracy 79.0 number of batch 0\n",
      "Loss at epoch 4100: 2.6864700317382812 accuracy 77.25 number of batch 100\n",
      "Loss at epoch 4200: 2.5872530937194824 accuracy 81.0 number of batch 200\n",
      "Loss at epoch 4300: 2.730074405670166 accuracy 76.5 number of batch 300\n",
      "Loss at epoch 4400: 2.5589988231658936 accuracy 79.5 number of batch 0\n",
      "Loss at epoch 4500: 2.7308459281921387 accuracy 78.5 number of batch 100\n",
      "Loss at epoch 4600: 2.763339042663574 accuracy 77.75 number of batch 200\n",
      "Loss at epoch 4700: 2.570573091506958 accuracy 77.0 number of batch 300\n",
      "Loss at epoch 4800: 2.578857660293579 accuracy 80.75 number of batch 0\n",
      "Loss at epoch 4900: 2.7419521808624268 accuracy 78.0 number of batch 100\n",
      "Loss at epoch 5000: 2.634991407394409 accuracy 77.75 number of batch 200\n",
      "Loss at epoch 5100: 2.814424991607666 accuracy 74.75 number of batch 300\n",
      "Loss at epoch 5200: 2.7773613929748535 accuracy 77.25 number of batch 0\n",
      "Loss at epoch 5300: 2.722909927368164 accuracy 78.5 number of batch 100\n",
      "Loss at epoch 5400: 2.4444191455841064 accuracy 82.0 number of batch 200\n",
      "Loss at epoch 5500: 2.7313437461853027 accuracy 77.0 number of batch 300\n",
      "Loss at epoch 5600: 2.6751868724823 accuracy 77.75 number of batch 0\n",
      "Loss at epoch 5700: 2.523150682449341 accuracy 80.5 number of batch 100\n",
      "Loss at epoch 5800: 2.6730892658233643 accuracy 78.0 number of batch 200\n",
      "Loss at epoch 5900: 2.681307077407837 accuracy 77.0 number of batch 300\n",
      "Loss at epoch 6000: 2.7886037826538086 accuracy 77.5 number of batch 0\n",
      "Loss at epoch 6100: 2.615302801132202 accuracy 77.5 number of batch 100\n",
      "Loss at epoch 6200: 2.812079668045044 accuracy 79.25 number of batch 200\n",
      "Loss at epoch 6300: 2.5913431644439697 accuracy 77.5 number of batch 300\n",
      "Loss at epoch 6400: 2.764298439025879 accuracy 76.5 number of batch 0\n",
      "Loss at epoch 6500: 2.729213237762451 accuracy 78.75 number of batch 100\n",
      "Loss at epoch 6600: 2.6567609310150146 accuracy 78.0 number of batch 200\n",
      "Loss at epoch 6700: 2.5715742111206055 accuracy 79.25 number of batch 300\n",
      "Loss at epoch 6800: 2.7276875972747803 accuracy 77.0 number of batch 0\n",
      "Loss at epoch 6900: 2.641796588897705 accuracy 78.75 number of batch 100\n",
      "Loss at epoch 7000: 2.6671619415283203 accuracy 77.25 number of batch 200\n",
      "Loss at epoch 7100: 2.638075351715088 accuracy 78.0 number of batch 300\n",
      "Loss at epoch 7200: 2.6238274574279785 accuracy 79.25 number of batch 0\n",
      "Loss at epoch 7300: 2.6248764991760254 accuracy 80.75 number of batch 100\n",
      "Loss at epoch 7400: 2.562451124191284 accuracy 79.0 number of batch 200\n",
      "Loss at epoch 7500: 2.511892795562744 accuracy 76.75 number of batch 300\n",
      "Loss at epoch 7600: 2.6695306301116943 accuracy 78.5 number of batch 0\n",
      "Loss at epoch 7700: 2.6043035984039307 accuracy 78.0 number of batch 100\n",
      "Loss at epoch 7800: 2.741666316986084 accuracy 75.0 number of batch 200\n",
      "Loss at epoch 7900: 2.7816193103790283 accuracy 76.75 number of batch 300\n",
      "Loss at epoch 8000: 2.6033051013946533 accuracy 79.25 number of batch 0\n",
      "Loss at epoch 8100: 2.650999069213867 accuracy 79.75 number of batch 100\n",
      "Loss at epoch 8200: 2.7335405349731445 accuracy 77.25 number of batch 200\n",
      "Loss at epoch 8300: 2.7041285037994385 accuracy 78.25 number of batch 300\n",
      "Loss at epoch 8400: 2.783257484436035 accuracy 78.25 number of batch 0\n",
      "Loss at epoch 8500: 2.6683509349823 accuracy 79.5 number of batch 100\n",
      "Loss at epoch 8600: 2.583200693130493 accuracy 81.5 number of batch 200\n",
      "Loss at epoch 8700: 2.672934055328369 accuracy 75.25 number of batch 300\n",
      "Loss at epoch 8800: 2.6598074436187744 accuracy 76.5 number of batch 0\n",
      "Loss at epoch 8900: 2.4810445308685303 accuracy 81.25 number of batch 100\n"
     ]
    },
    {
     "data": {
      "image/png": "[encoded data removed]",
      "text/plain": [
       "<Figure size 640x480 with 2 Axes>"
      ]
     },
     "metadata": {},
     "output_type": "display_data"
    }
   ],
   "source": [
    "def accuracy(predictions_proba, targets, top=5):\n",
    "    tensor_top = torch.topk(predictions_proba, top).indices\n",
    "    # warning, not yet efficiently implemented\n",
    "    good_predictions = functorch.vmap(lambda t1, t2: torch.isin(t1,t2))(targets, tensor_top)\n",
    "    return (good_predictions).sum()/len(targets) * 100\n",
    "\n",
    "# Plot monitoring\n",
    "def ith(l, i):\n",
    "    return [x[i] for x in l]\n",
    "\n",
    "def plot_history(h):\n",
    "    fig, axs = plt.subplots(1, 2)\n",
    "    axs[0].plot(ith(h,0), ith(h,1))\n",
    "    axs[0].plot(ith(h,0), ith(h,3), color='red')\n",
    "    axs[0].set_xlabel('epochs')\n",
    "    axs[0].set_ylabel('loss')\n",
    "    axs[1].plot(ith(h,0), ith(h,2))\n",
    "    axs[1].plot(ith(h,0), ith(h,4), color='red')\n",
    "    axs[1].set_xlabel('epochs')\n",
    "    axs[1].set_ylabel('accuracy')\n",
    "    fig.suptitle('Monitor learning')\n",
    "    fig.tight_layout()\n",
    "    plt.show()\n",
    "\n",
    "    \n",
    "def grad_des(epoch, model, optim):\n",
    "    history = []\n",
    "    train_inputs= []\n",
    "    train_target = []\n",
    "    validation_inputs = []\n",
    "    validation_labels = []\n",
    "    \n",
    "    for inputs, targets in validation_loader:\n",
    "        validation_inputs.append(inputs)\n",
    "        validation_labels.append(targets)\n",
    "        \n",
    "        \n",
    "    for inputs_, guesses_ in train_loader:\n",
    "            train_inputs.append(inputs_)\n",
    "            train_target.append(guesses_)\n",
    "            \n",
    "    for ep in range(epoch):       \n",
    "        pred = model(train_inputs[ep%len(train_inputs)])\n",
    "        \n",
    "        err = F.nll_loss(pred, train_target[ep%len(train_target)])\n",
    "        model.zero_grad()\n",
    "        err.backward()\n",
    "        optim.step()\n",
    "\n",
    "        if ep % 100 == 0:\n",
    "                \n",
    "            acc = accuracy(pred, train_target[ep%len(train_target)],10)\n",
    "            acc_val = accuracy( model(validation_inputs[ep%len(validation_inputs)]), validation_labels[ep%len(validation_labels)],5)\n",
    "            pred = model(validation_inputs[ep%len(validation_inputs)])\n",
    "            loss_val =  F.nll_loss(pred, validation_labels[ep%len(validation_labels)])\n",
    "            history.append((ep, err.detach().numpy(), acc, loss_val.detach().numpy(), acc_val))\n",
    "            print(f\"Loss at epoch {ep}: {err.item()} accuracy {acc} number of batch {ep%train_loader.batch_size}\")\n",
    "    \n",
    "    return history\n",
    "    \n",
    "\n",
    "optimizer = torch.optim.Adam(model.parameters(), lr=0.01)\n",
    "history= grad_des(9000, model, optimizer)\n",
    "plot_history(history)\n"
   ]
  },
  {
   "cell_type": "markdown",
   "id": "ff5a7a1a-bb47-40b5-8239-4e60873509b5",
   "metadata": {},
   "source": [
    "## Exercice 5"
   ]
  },
  {
   "cell_type": "code",
   "execution_count": 381,
   "id": "e366ff2d-5e7e-45fd-aa1a-fd258091aa9c",
   "metadata": {
    "tags": []
   },
   "outputs": [
    {
     "name": "stdout",
     "output_type": "stream",
     "text": [
      "Context words : can be called\n",
      "Predicted last word: .\n",
      "Context words : well , she\n",
      "Predicted last word: said\n"
     ]
    }
   ],
   "source": [
    "def predict_next_word(context, model):\n",
    "    with torch.no_grad():\n",
    "        output = model(context)\n",
    "        predicted_id = torch.argmax(output, dim=1).item()\n",
    "        predicted_word = word_from_idx(predicted_id)\n",
    "    return predicted_word\n",
    "\n",
    "context = torch.tensor([182,  89, 186])\n",
    "context2 = torch.tensor([242,  22,  54])\n",
    "input_features = [word_from_idx(id.item()) for id in context]\n",
    "input_features_str = \" \".join(input_features)\n",
    "print(f\"Context words : {input_features_str}\")\n",
    "predicted_word = predict_next_word(context, model)\n",
    "print(\"Predicted last word:\", predicted_word)\n",
    "input_features = [word_from_idx(id.item()) for id in context2]\n",
    "input_features_str = \" \".join(input_features)\n",
    "print(f\"Context words : {input_features_str}\")\n",
    "predicted_word = predict_next_word(context2, model)\n",
    "print(\"Predicted last word:\", predicted_word)\n"
   ]
  },
  {
   "cell_type": "code",
   "execution_count": 382,
   "id": "1e3daaed-3ffc-4b9b-93cc-2ad324dd35c3",
   "metadata": {
    "tags": []
   },
   "outputs": [
    {
     "name": "stdout",
     "output_type": "stream",
     "text": [
      "10.70667552947998\n"
     ]
    }
   ],
   "source": [
    "def word_distance(w1, w2, model):\n",
    "    id1 =  idx_from_word(w1)\n",
    "    id2 =  idx_from_word(w2)\n",
    "    w1_emb = model.embed.weight[id1]\n",
    "    w2_emb = model.embed.weight[id2]\n",
    "    distance = torch.dist(w1_emb, w2_emb)\n",
    "    \n",
    "    return distance.item()\n",
    "\n",
    "distance = word_distance(\"yesterday\", \".\", model)  \n",
    "print(distance)"
   ]
  },
  {
   "cell_type": "code",
   "execution_count": 363,
   "id": "d6ad6190-c781-4f69-ade2-277168ffa28e",
   "metadata": {
    "tags": []
   },
   "outputs": [
    {
     "name": "stdout",
     "output_type": "stream",
     "text": [
      "0.0\n"
     ]
    }
   ],
   "source": [
    "distance = word_distance(\"to\", \"to\", model)  \n",
    "print(distance)"
   ]
  },
  {
   "cell_type": "markdown",
   "id": "ade9eba5-14e4-4094-abd5-e2bf125aedec",
   "metadata": {
    "tags": []
   },
   "source": [
    "#### la distance respresente la distance euclidienne entre les embeddings des mots(la relation entre eux), plus les mots sont similaires(presque meme context) plus la distance est petite et invesrsement."
   ]
  },
  {
   "cell_type": "code",
   "execution_count": 390,
   "id": "a752e2ad-a94c-4139-8db6-78cc1067c562",
   "metadata": {
    "tags": []
   },
   "outputs": [
    {
     "name": "stdout",
     "output_type": "stream",
     "text": [
      "Les 3 mots les plus proches de 'when':\n",
      "1. what (distance: 4.131457805633545)\n",
      "2. how (distance: 4.181199550628662)\n",
      "3. where (distance: 4.2130913734436035)\n"
     ]
    }
   ],
   "source": [
    "def display_nearest_words(w, model, top):\n",
    "    distances = []\n",
    "    for word in vocab.values():\n",
    "        if word != w:\n",
    "            distance = word_distance(w, word, model)\n",
    "            distances.append((word, distance))\n",
    "    \n",
    "    # sorting\n",
    "    distances.sort(key=lambda x: x[1])\n",
    "    \n",
    "    # Affichage des mots les plus proches\n",
    "    print(f\"Les {top} mots les plus proches de '{w}':\")\n",
    "    for i in range(top):\n",
    "        print(f\"{i+1}. {distances[i][0]} (distance: {distances[i][1]})\")\n",
    "\n",
    "# Exemple d'utilisation\n",
    "display_nearest_words(\"when\", model, 3)\n"
   ]
  },
  {
   "cell_type": "code",
   "execution_count": null,
   "id": "7e1cbe50-d219-463d-ba5b-b0f4a0dbed0f",
   "metadata": {},
   "outputs": [],
   "source": []
  }
 ],
 "metadata": {
  "kernelspec": {
   "display_name": "Python 3 (ipykernel)",
   "language": "python",
   "name": "python3"
  },
  "language_info": {
   "codemirror_mode": {
    "name": "ipython",
    "version": 3
   },
   "file_extension": ".py",
   "mimetype": "text/x-python",
   "name": "python",
   "nbconvert_exporter": "python",
   "pygments_lexer": "ipython3",
   "version": "3.10.12"
  }
 },
 "nbformat": 4,
 "nbformat_minor": 5
}
