{
 "cells": [
  {
   "cell_type": "code",
   "execution_count": 2,
   "id": "940db923-9c7d-4e60-84f9-d901fcaa5d97",
   "metadata": {
    "tags": []
   },
   "outputs": [],
   "source": [
    "import torch"
   ]
  },
  {
   "cell_type": "code",
   "execution_count": 3,
   "id": "82372439-2043-4608-9bba-45ebade71d5c",
   "metadata": {
    "tags": []
   },
   "outputs": [],
   "source": [
    "test_data = torch.load('test_data.pt')\n",
    "train_data = torch.load('train_data.pt') \n",
    "valid_data  = torch.load('valid_data.pt')\n",
    "vocab = torch.load('vocab.pt')"
   ]
  },
  {
   "cell_type": "code",
   "execution_count": 4,
   "id": "c04f175c-e064-4880-abd2-37b80f2fbbf1",
   "metadata": {
    "tags": []
   },
   "outputs": [
    {
     "name": "stdout",
     "output_type": "stream",
     "text": [
      "{0: 'all', 1: 'set', 2: 'just', 3: 'show', 4: 'being', 5: 'money', 6: 'over', 7: 'both', 8: 'years', 9: 'four', 10: 'through', 11: 'during', 12: 'go', 13: 'still', 14: 'children', 15: 'before', 16: 'police', 17: 'office', 18: 'million', 19: 'also', 20: 'less', 21: 'had', 22: ',', 23: 'including', 24: 'should', 25: 'to', 26: 'only', 27: 'going', 28: 'under', 29: 'has', 30: 'might', 31: 'do', 32: 'them', 33: 'good', 34: 'around', 35: 'get', 36: 'very', 37: 'big', 38: 'dr.', 39: 'game', 40: 'every', 41: 'know', 42: 'they', 43: 'not', 44: 'world', 45: 'now', 46: 'him', 47: 'school', 48: 'several', 49: 'like', 50: 'did', 51: 'university', 52: 'companies', 53: 'these', 54: 'she', 55: 'team', 56: 'found', 57: 'where', 58: 'right', 59: 'says', 60: 'people', 61: 'house', 62: 'national', 63: 'some', 64: 'back', 65: 'see', 66: 'street', 67: 'are', 68: 'year', 69: 'home', 70: 'best', 71: 'out', 72: 'even', 73: 'what', 74: 'said', 75: 'for', 76: 'federal', 77: 'since', 78: 'its', 79: 'may', 80: 'state', 81: 'does', 82: 'john', 83: 'between', 84: 'new', 85: ';', 86: 'three', 87: 'public', 88: '?', 89: 'be', 90: 'we', 91: 'after', 92: 'business', 93: 'never', 94: 'use', 95: 'here', 96: 'york', 97: 'members', 98: 'percent', 99: 'put', 100: 'group', 101: 'come', 102: 'by', 103: '$', 104: 'on', 105: 'about', 106: 'last', 107: 'her', 108: 'of', 109: 'could', 110: 'days', 111: 'against', 112: 'times', 113: 'women', 114: 'place', 115: 'think', 116: 'first', 117: 'among', 118: 'own', 119: 'family', 120: 'into', 121: 'each', 122: 'one', 123: 'down', 124: 'because', 125: 'long', 126: 'another', 127: 'such', 128: 'old', 129: 'next', 130: 'your', 131: 'market', 132: 'second', 133: 'city', 134: 'little', 135: 'from', 136: 'would', 137: 'few', 138: 'west', 139: 'there', 140: 'political', 141: 'two', 142: 'been', 143: '.', 144: 'their', 145: 'much', 146: 'music', 147: 'too', 148: 'way', 149: 'white', 150: ':', 151: 'was', 152: 'war', 153: 'today', 154: 'more', 155: 'ago', 156: 'life', 157: 'that', 158: 'season', 159: 'company', 160: '-', 161: 'but', 162: 'part', 163: 'court', 164: 'former', 165: 'general', 166: 'with', 167: 'than', 168: 'those', 169: 'he', 170: 'me', 171: 'high', 172: 'made', 173: 'this', 174: 'work', 175: 'up', 176: 'us', 177: 'until', 178: 'will', 179: 'ms.', 180: 'while', 181: 'officials', 182: 'can', 183: 'were', 184: 'country', 185: 'my', 186: 'called', 187: 'and', 188: 'program', 189: 'have', 190: 'then', 191: 'is', 192: 'it', 193: 'an', 194: 'states', 195: 'case', 196: 'say', 197: 'his', 198: 'at', 199: 'want', 200: 'in', 201: 'any', 202: 'as', 203: 'if', 204: 'united', 205: 'end', 206: 'no', 207: ')', 208: 'make', 209: 'government', 210: 'when', 211: 'american', 212: 'same', 213: 'how', 214: 'mr.', 215: 'other', 216: 'take', 217: 'which', 218: 'department', 219: '--', 220: 'you', 221: 'many', 222: 'nt', 223: 'day', 224: 'week', 225: 'play', 226: 'used', 227: \"'s\", 228: 'though', 229: 'our', 230: 'who', 231: 'yesterday', 232: 'director', 233: 'most', 234: 'president', 235: 'law', 236: 'man', 237: 'a', 238: 'night', 239: 'off', 240: 'center', 241: 'i', 242: 'well', 243: 'or', 244: 'without', 245: 'so', 246: 'time', 247: 'five', 248: 'the', 249: 'left'}\n"
     ]
    }
   ],
   "source": [
    "print(vocab)"
   ]
  },
  {
   "cell_type": "code",
   "execution_count": 5,
   "id": "c3c61003-bf7d-4f64-a665-3a49b3607726",
   "metadata": {
    "tags": []
   },
   "outputs": [
    {
     "name": "stdout",
     "output_type": "stream",
     "text": [
      "tensor([[182,  89, 186, 143],\n",
      "        [ 42,  67, 242,  22],\n",
      "        [ 67, 242,  22,  54],\n",
      "        ...,\n",
      "        [141, 108, 176,  22],\n",
      "        [108, 176,  22, 217],\n",
      "        [176,  22, 217, 191]])\n"
     ]
    }
   ],
   "source": [
    "print(test_data)"
   ]
  },
  {
   "cell_type": "code",
   "execution_count": 6,
   "id": "2b32aa76-4c6e-48f3-a0cf-f135910af52c",
   "metadata": {
    "tags": []
   },
   "outputs": [
    {
     "name": "stdout",
     "output_type": "stream",
     "text": [
      "cpu\n",
      "cpu\n"
     ]
    }
   ],
   "source": [
    "from torch.utils.data import Dataset, DataLoader\n",
    "\n",
    "class MyDataSet(Dataset):\n",
    "    def __init__(self, inputs, targets):\n",
    "        # device agnostic code:\n",
    "        if torch.cuda.is_available():\n",
    "            device = torch.device(\"cuda\")\n",
    "        else:\n",
    "            device = torch.device(\"cpu\")\n",
    "        print(device)\n",
    "        self.inputs = inputs.to(device)\n",
    "        self.targets = targets.to(device)     \n",
    "    def __len__(self):\n",
    "        return len(self.inputs)\n",
    "    def __getitem__(self, index):\n",
    "        return self.inputs[index], self.targets[index]\n",
    "\n",
    "train_loader = DataLoader(MyDataSet(train_data[:,:3], train_data[:,3]), batch_size=256)\n",
    "validation_loader = DataLoader(MyDataSet(valid_data[:,:3], valid_data[:,3]), batch_size=256)\n"
   ]
  },
  {
   "cell_type": "code",
   "execution_count": 7,
   "id": "5da634e3-028e-4d06-beb2-9db584345afc",
   "metadata": {},
   "outputs": [
    {
     "ename": "SyntaxError",
     "evalue": "incomplete input (2701316278.py, line 2)",
     "output_type": "error",
     "traceback": [
      "\u001b[0;36m  Cell \u001b[0;32mIn[7], line 2\u001b[0;36m\u001b[0m\n\u001b[0;31m    \u001b[0m\n\u001b[0m    ^\u001b[0m\n\u001b[0;31mSyntaxError\u001b[0m\u001b[0;31m:\u001b[0m incomplete input\n"
     ]
    }
   ],
   "source": [
    "for inputs, targets in train_loader: # mini-batch\n",
    "    "
   ]
  },
  {
   "cell_type": "code",
   "execution_count": null,
   "id": "71ebf399-6778-4406-836b-565742783dc8",
   "metadata": {},
   "outputs": [],
   "source": []
  }
 ],
 "metadata": {
  "kernelspec": {
   "display_name": "Python 3 (ipykernel)",
   "language": "python",
   "name": "python3"
  },
  "language_info": {
   "codemirror_mode": {
    "name": "ipython",
    "version": 3
   },
   "file_extension": ".py",
   "mimetype": "text/x-python",
   "name": "python",
   "nbconvert_exporter": "python",
   "pygments_lexer": "ipython3",
   "version": "3.10.12"
  }
 },
 "nbformat": 4,
 "nbformat_minor": 5
}
